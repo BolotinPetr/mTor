{
 "cells": [
  {
   "cell_type": "code",
   "execution_count": 1,
   "metadata": {
    "collapsed": true
   },
   "outputs": [],
   "source": [
    "import os"
   ]
  },
  {
   "cell_type": "code",
   "execution_count": 115,
   "metadata": {},
   "outputs": [
    {
     "name": "stdout",
     "output_type": "stream",
     "text": [
      "./GSM2492066_Sample_EV_1a_Counts.txt\n",
      "./GSM2492067_Sample_EV_1b.Counts.txt\n",
      "./GSM2492067_Sample_EV_1b_Counts.txt\n",
      "./GSM2492068_Sample_EV_1c.Counts.txt\n",
      "./GSM2492068_Sample_EV_1c_Counts.txt\n",
      "./GSM2492069_Sample_EV_2a.Counts.txt\n",
      "./GSM2492070_Sample_EV_2b.Counts.txt\n",
      "./GSM2492071_Sample_EV_2c.Counts.txt\n",
      "./GSM2492072_Sample_OSKM_1a.Counts.txt\n",
      "./GSM2492073_Sample_OSKM_1b.Counts.txt\n",
      "./GSM2492074_Sample_OSKM_1c.Counts.txt\n",
      "./GSM2492075_Sample_OSKM_2a.Counts.txt\n",
      "./GSM2492076_Sample_OSKM_2b.Counts.txt\n",
      "./GSM2492077_Sample_OSKM_2c.Counts.txt\n",
      "./GSM2786611_Sample_O211_1a.Counts.txt\n",
      "./GSM2786612_Sample_O211_1b.Counts.txt\n",
      "./GSM2786613_Sample_O211_1c.Counts.txt\n",
      "./GSM2786614_Sample_O211_2a.Counts.txt\n",
      "./GSM2786615_Sample_O211_2b.Counts.txt\n",
      "./GSM2786616_Sample_O211_2c.Counts.txt\n",
      "./GSM2786617_Sample_O212_1a.Counts.txt\n",
      "./GSM2786618_Sample_O212_1b.Counts.txt\n",
      "./GSM2786619_Sample_O212_1c.Counts.txt\n",
      "./GSM2786620_Sample_O212_2a.Counts.txt\n",
      "./GSM2786621_Sample_O212_2b.Counts.txt\n",
      "./GSM2786622_Sample_O212_2c.Counts.txt\n",
      "./GSM2786623_Sample_OmT2_1a.Counts.txt\n",
      "./GSM2786624_Sample_OmT2_1b.Counts.txt\n",
      "./GSM2786625_Sample_OmT2_1c.Counts.txt\n",
      "./GSM2786626_Sample_OmT2_2a.Counts.txt\n",
      "./GSM2786627_Sample_OmT2_2b.Counts.txt\n",
      "./GSM2786628_Sample_OmT2_2c.Counts.txt\n",
      "./GSM2786629_Sample_OmT3_1a.Counts.txt\n",
      "./GSM2786630_Sample_OmT3_1b.Counts.txt\n",
      "./GSM2786631_Sample_OmT3_1c.Counts.txt\n",
      "./GSM2786632_Sample_OmT3_2a.Counts.txt\n",
      "./GSM2786633_Sample_OmT3_2b.Counts.txt\n",
      "./GSM2786634_Sample_OmT3_2c.Counts.txt\n"
     ]
    }
   ],
   "source": [
    "yourpath = './'\n",
    "listofFiles = []\n",
    "import os\n",
    "import pandas as pd\n",
    "for root, dirs, files in os.walk(yourpath, topdown=False):\n",
    "    for name in files[1:-1]:        \n",
    "        print(os.path.join(root, name))\n",
    "        try:\n",
    "            listofFiles.append(pd.read_csv(os.path.join(root, name)[2:], sep = '\\t', header= None)) \n",
    "        except:\n",
    "            pass"
   ]
  },
  {
   "cell_type": "code",
   "execution_count": 116,
   "metadata": {
    "collapsed": true
   },
   "outputs": [],
   "source": [
    "files = files[1:-1]"
   ]
  },
  {
   "cell_type": "code",
   "execution_count": 117,
   "metadata": {},
   "outputs": [
    {
     "data": {
      "text/plain": [
       "38"
      ]
     },
     "execution_count": 117,
     "metadata": {},
     "output_type": "execute_result"
    }
   ],
   "source": [
    "len(files)"
   ]
  },
  {
   "cell_type": "code",
   "execution_count": 118,
   "metadata": {},
   "outputs": [],
   "source": [
    "l = [listofFiles[i] for i in range(len(files))]"
   ]
  },
  {
   "cell_type": "code",
   "execution_count": 119,
   "metadata": {},
   "outputs": [],
   "source": [
    "dt = pd.concat(l, axis=1, ignore_index=True)"
   ]
  },
  {
   "cell_type": "code",
   "execution_count": 120,
   "metadata": {
    "collapsed": true
   },
   "outputs": [],
   "source": [
    "def duplicate_columns(df, return_dataframe = False, verbose = False):\n",
    "    '''\n",
    "        a function to detect and possibly remove duplicated columns for a pandas dataframe\n",
    "    '''\n",
    "    from pandas.core.common import array_equivalent\n",
    "    # group columns by dtypes, only the columns of the same dtypes can be duplicate of each other\n",
    "    groups = df.columns.to_series().groupby(df.dtypes).groups\n",
    "    duplicated_columns = []\n",
    " \n",
    "    for dtype, col_names in groups.items():\n",
    "        column_values = df[col_names]\n",
    "        num_columns = len(col_names)\n",
    " \n",
    "        # find duplicated columns by checking pairs of columns, store first column name if duplicate exist \n",
    "        for i in range(num_columns):\n",
    "            column_i = column_values.iloc[:,i].values\n",
    "            for j in range(i + 1, num_columns):\n",
    "                column_j = column_values.iloc[:,j].values\n",
    "                if array_equivalent(column_i, column_j):\n",
    "                    if verbose: \n",
    "                        print(\"column {} is a duplicate of column {}\".format(col_names[i], col_names[j]))\n",
    "                    duplicated_columns.append(col_names[i])\n",
    "                    break\n",
    "    if not return_dataframe:\n",
    "        # return the column names of those duplicated exists\n",
    "        return duplicated_columns\n",
    "    else:\n",
    "        # return a dataframe with duplicated columns dropped \n",
    "        return df.drop(labels = duplicated_columns, axis = 1)"
   ]
  },
  {
   "cell_type": "code",
   "execution_count": 127,
   "metadata": {},
   "outputs": [],
   "source": [
    "col3 = dt[3]\n",
    "col5 = dt[5]"
   ]
  },
  {
   "cell_type": "code",
   "execution_count": 128,
   "metadata": {},
   "outputs": [
    {
     "data": {
      "text/plain": [
       "[]"
      ]
     },
     "execution_count": 128,
     "metadata": {},
     "output_type": "execute_result"
    }
   ],
   "source": [
    "[print('1') for c3, c5 in zip(col3, col5) if c3 != c5]"
   ]
  },
  {
   "cell_type": "code",
   "execution_count": 121,
   "metadata": {},
   "outputs": [
    {
     "name": "stderr",
     "output_type": "stream",
     "text": [
      "C:\\Users\\Petr\\Anaconda3\\lib\\site-packages\\ipykernel_launcher.py:19: DeprecationWarning: 'pandas.core.common.array_equivalent' is deprecated and is no longer public API\n"
     ]
    },
    {
     "name": "stdout",
     "output_type": "stream",
     "text": [
      "column 3 is a duplicate of column 5\n",
      "column 7 is a duplicate of column 9\n",
      "column 0 is a duplicate of column 2\n",
      "column 2 is a duplicate of column 4\n",
      "column 4 is a duplicate of column 6\n",
      "column 6 is a duplicate of column 8\n",
      "column 8 is a duplicate of column 10\n",
      "column 10 is a duplicate of column 12\n",
      "column 12 is a duplicate of column 14\n",
      "column 14 is a duplicate of column 16\n",
      "column 16 is a duplicate of column 18\n",
      "column 18 is a duplicate of column 20\n",
      "column 20 is a duplicate of column 22\n",
      "column 22 is a duplicate of column 24\n",
      "column 24 is a duplicate of column 26\n",
      "column 26 is a duplicate of column 28\n",
      "column 28 is a duplicate of column 30\n",
      "column 30 is a duplicate of column 32\n",
      "column 32 is a duplicate of column 34\n",
      "column 34 is a duplicate of column 36\n",
      "column 36 is a duplicate of column 38\n",
      "column 38 is a duplicate of column 40\n",
      "column 40 is a duplicate of column 42\n",
      "column 42 is a duplicate of column 44\n",
      "column 44 is a duplicate of column 46\n",
      "column 46 is a duplicate of column 48\n",
      "column 48 is a duplicate of column 50\n",
      "column 50 is a duplicate of column 52\n",
      "column 52 is a duplicate of column 54\n",
      "column 54 is a duplicate of column 56\n",
      "column 56 is a duplicate of column 58\n",
      "column 58 is a duplicate of column 60\n",
      "column 60 is a duplicate of column 62\n",
      "column 62 is a duplicate of column 64\n",
      "column 64 is a duplicate of column 66\n",
      "column 66 is a duplicate of column 68\n",
      "column 68 is a duplicate of column 70\n",
      "column 70 is a duplicate of column 72\n",
      "column 72 is a duplicate of column 74\n"
     ]
    },
    {
     "data": {
      "text/plain": [
       "39"
      ]
     },
     "execution_count": 121,
     "metadata": {},
     "output_type": "execute_result"
    }
   ],
   "source": [
    "len(duplicate_columns(dt, False, True))"
   ]
  },
  {
   "cell_type": "code",
   "execution_count": 125,
   "metadata": {},
   "outputs": [],
   "source": [
    "del files[3]\n",
    "del files[7]"
   ]
  },
  {
   "cell_type": "code",
   "execution_count": 126,
   "metadata": {},
   "outputs": [
    {
     "data": {
      "text/plain": [
       "36"
      ]
     },
     "execution_count": 126,
     "metadata": {},
     "output_type": "execute_result"
    }
   ],
   "source": [
    "len(files)"
   ]
  },
  {
   "cell_type": "code",
   "execution_count": 122,
   "metadata": {},
   "outputs": [
    {
     "name": "stderr",
     "output_type": "stream",
     "text": [
      "C:\\Users\\Petr\\Anaconda3\\lib\\site-packages\\ipykernel_launcher.py:19: DeprecationWarning: 'pandas.core.common.array_equivalent' is deprecated and is no longer public API\n"
     ]
    }
   ],
   "source": [
    "new_df = duplicate_columns(dt, True)"
   ]
  },
  {
   "cell_type": "code",
   "execution_count": 129,
   "metadata": {},
   "outputs": [
    {
     "data": {
      "text/plain": [
       "(37,)"
      ]
     },
     "execution_count": 129,
     "metadata": {},
     "output_type": "execute_result"
    }
   ],
   "source": [
    "new_df.columns.shape"
   ]
  },
  {
   "cell_type": "code",
   "execution_count": 130,
   "metadata": {},
   "outputs": [
    {
     "data": {
      "text/html": [
       "<div>\n",
       "<style>\n",
       "    .dataframe thead tr:only-child th {\n",
       "        text-align: right;\n",
       "    }\n",
       "\n",
       "    .dataframe thead th {\n",
       "        text-align: left;\n",
       "    }\n",
       "\n",
       "    .dataframe tbody tr th {\n",
       "        vertical-align: top;\n",
       "    }\n",
       "</style>\n",
       "<table border=\"1\" class=\"dataframe\">\n",
       "  <thead>\n",
       "    <tr style=\"text-align: right;\">\n",
       "      <th></th>\n",
       "      <th>1</th>\n",
       "      <th>5</th>\n",
       "      <th>9</th>\n",
       "      <th>11</th>\n",
       "      <th>13</th>\n",
       "      <th>15</th>\n",
       "      <th>17</th>\n",
       "      <th>19</th>\n",
       "      <th>21</th>\n",
       "      <th>23</th>\n",
       "      <th>...</th>\n",
       "      <th>59</th>\n",
       "      <th>61</th>\n",
       "      <th>63</th>\n",
       "      <th>65</th>\n",
       "      <th>67</th>\n",
       "      <th>69</th>\n",
       "      <th>71</th>\n",
       "      <th>73</th>\n",
       "      <th>74</th>\n",
       "      <th>75</th>\n",
       "    </tr>\n",
       "  </thead>\n",
       "  <tbody>\n",
       "    <tr>\n",
       "      <th>0</th>\n",
       "      <td>0</td>\n",
       "      <td>0</td>\n",
       "      <td>0</td>\n",
       "      <td>0</td>\n",
       "      <td>0</td>\n",
       "      <td>0</td>\n",
       "      <td>0</td>\n",
       "      <td>0</td>\n",
       "      <td>0</td>\n",
       "      <td>0</td>\n",
       "      <td>...</td>\n",
       "      <td>0</td>\n",
       "      <td>0</td>\n",
       "      <td>0</td>\n",
       "      <td>0</td>\n",
       "      <td>0</td>\n",
       "      <td>0</td>\n",
       "      <td>0</td>\n",
       "      <td>0</td>\n",
       "      <td>ENSG00000223972</td>\n",
       "      <td>0</td>\n",
       "    </tr>\n",
       "    <tr>\n",
       "      <th>1</th>\n",
       "      <td>0</td>\n",
       "      <td>0</td>\n",
       "      <td>0</td>\n",
       "      <td>0</td>\n",
       "      <td>0</td>\n",
       "      <td>0</td>\n",
       "      <td>0</td>\n",
       "      <td>0</td>\n",
       "      <td>0</td>\n",
       "      <td>0</td>\n",
       "      <td>...</td>\n",
       "      <td>1</td>\n",
       "      <td>1</td>\n",
       "      <td>0</td>\n",
       "      <td>2</td>\n",
       "      <td>0</td>\n",
       "      <td>1</td>\n",
       "      <td>0</td>\n",
       "      <td>0</td>\n",
       "      <td>ENSG00000227232</td>\n",
       "      <td>1</td>\n",
       "    </tr>\n",
       "    <tr>\n",
       "      <th>2</th>\n",
       "      <td>0</td>\n",
       "      <td>0</td>\n",
       "      <td>0</td>\n",
       "      <td>0</td>\n",
       "      <td>0</td>\n",
       "      <td>0</td>\n",
       "      <td>0</td>\n",
       "      <td>0</td>\n",
       "      <td>0</td>\n",
       "      <td>0</td>\n",
       "      <td>...</td>\n",
       "      <td>0</td>\n",
       "      <td>0</td>\n",
       "      <td>0</td>\n",
       "      <td>0</td>\n",
       "      <td>0</td>\n",
       "      <td>0</td>\n",
       "      <td>0</td>\n",
       "      <td>0</td>\n",
       "      <td>ENSG00000243485</td>\n",
       "      <td>0</td>\n",
       "    </tr>\n",
       "    <tr>\n",
       "      <th>3</th>\n",
       "      <td>0</td>\n",
       "      <td>0</td>\n",
       "      <td>0</td>\n",
       "      <td>0</td>\n",
       "      <td>0</td>\n",
       "      <td>0</td>\n",
       "      <td>0</td>\n",
       "      <td>0</td>\n",
       "      <td>0</td>\n",
       "      <td>0</td>\n",
       "      <td>...</td>\n",
       "      <td>0</td>\n",
       "      <td>0</td>\n",
       "      <td>0</td>\n",
       "      <td>0</td>\n",
       "      <td>0</td>\n",
       "      <td>0</td>\n",
       "      <td>0</td>\n",
       "      <td>0</td>\n",
       "      <td>ENSG00000221311</td>\n",
       "      <td>0</td>\n",
       "    </tr>\n",
       "    <tr>\n",
       "      <th>4</th>\n",
       "      <td>0</td>\n",
       "      <td>0</td>\n",
       "      <td>0</td>\n",
       "      <td>0</td>\n",
       "      <td>0</td>\n",
       "      <td>0</td>\n",
       "      <td>0</td>\n",
       "      <td>0</td>\n",
       "      <td>0</td>\n",
       "      <td>0</td>\n",
       "      <td>...</td>\n",
       "      <td>0</td>\n",
       "      <td>0</td>\n",
       "      <td>0</td>\n",
       "      <td>0</td>\n",
       "      <td>0</td>\n",
       "      <td>0</td>\n",
       "      <td>0</td>\n",
       "      <td>0</td>\n",
       "      <td>ENSG00000237613</td>\n",
       "      <td>0</td>\n",
       "    </tr>\n",
       "  </tbody>\n",
       "</table>\n",
       "<p>5 rows × 37 columns</p>\n",
       "</div>"
      ],
      "text/plain": [
       "   1   5   9   11  13  15  17  19  21  23 ...  59  61  63  65  67  69  71  73  \\\n",
       "0   0   0   0   0   0   0   0   0   0   0 ...   0   0   0   0   0   0   0   0   \n",
       "1   0   0   0   0   0   0   0   0   0   0 ...   1   1   0   2   0   1   0   0   \n",
       "2   0   0   0   0   0   0   0   0   0   0 ...   0   0   0   0   0   0   0   0   \n",
       "3   0   0   0   0   0   0   0   0   0   0 ...   0   0   0   0   0   0   0   0   \n",
       "4   0   0   0   0   0   0   0   0   0   0 ...   0   0   0   0   0   0   0   0   \n",
       "\n",
       "                74  75  \n",
       "0  ENSG00000223972   0  \n",
       "1  ENSG00000227232   1  \n",
       "2  ENSG00000243485   0  \n",
       "3  ENSG00000221311   0  \n",
       "4  ENSG00000237613   0  \n",
       "\n",
       "[5 rows x 37 columns]"
      ]
     },
     "execution_count": 130,
     "metadata": {},
     "output_type": "execute_result"
    }
   ],
   "source": [
    "new_df[:5]"
   ]
  },
  {
   "cell_type": "code",
   "execution_count": 131,
   "metadata": {
    "collapsed": true
   },
   "outputs": [],
   "source": [
    "new_names = {}"
   ]
  },
  {
   "cell_type": "code",
   "execution_count": 132,
   "metadata": {},
   "outputs": [
    {
     "data": {
      "text/plain": [
       "36"
      ]
     },
     "execution_count": 132,
     "metadata": {},
     "output_type": "execute_result"
    }
   ],
   "source": [
    "len(files)"
   ]
  },
  {
   "cell_type": "code",
   "execution_count": 134,
   "metadata": {},
   "outputs": [
    {
     "name": "stdout",
     "output_type": "stream",
     "text": [
      "1 GSM2492066_Sample_EV_1a_Counts.txt\n",
      "5 GSM2492067_Sample_EV_1b.Counts.txt\n",
      "9 GSM2492067_Sample_EV_1b_Counts.txt\n",
      "11 GSM2492068_Sample_EV_1c_Counts.txt\n",
      "13 GSM2492069_Sample_EV_2a.Counts.txt\n",
      "15 GSM2492070_Sample_EV_2b.Counts.txt\n",
      "17 GSM2492071_Sample_EV_2c.Counts.txt\n",
      "19 GSM2492073_Sample_OSKM_1b.Counts.txt\n",
      "21 GSM2492074_Sample_OSKM_1c.Counts.txt\n",
      "23 GSM2492075_Sample_OSKM_2a.Counts.txt\n",
      "25 GSM2492076_Sample_OSKM_2b.Counts.txt\n",
      "27 GSM2492077_Sample_OSKM_2c.Counts.txt\n",
      "29 GSM2786611_Sample_O211_1a.Counts.txt\n",
      "31 GSM2786612_Sample_O211_1b.Counts.txt\n",
      "33 GSM2786613_Sample_O211_1c.Counts.txt\n",
      "35 GSM2786614_Sample_O211_2a.Counts.txt\n",
      "37 GSM2786615_Sample_O211_2b.Counts.txt\n",
      "39 GSM2786616_Sample_O211_2c.Counts.txt\n",
      "41 GSM2786617_Sample_O212_1a.Counts.txt\n",
      "43 GSM2786618_Sample_O212_1b.Counts.txt\n",
      "45 GSM2786619_Sample_O212_1c.Counts.txt\n",
      "47 GSM2786620_Sample_O212_2a.Counts.txt\n",
      "49 GSM2786621_Sample_O212_2b.Counts.txt\n",
      "51 GSM2786622_Sample_O212_2c.Counts.txt\n",
      "53 GSM2786623_Sample_OmT2_1a.Counts.txt\n",
      "55 GSM2786624_Sample_OmT2_1b.Counts.txt\n",
      "57 GSM2786625_Sample_OmT2_1c.Counts.txt\n",
      "59 GSM2786626_Sample_OmT2_2a.Counts.txt\n",
      "61 GSM2786627_Sample_OmT2_2b.Counts.txt\n",
      "63 GSM2786628_Sample_OmT2_2c.Counts.txt\n",
      "65 GSM2786629_Sample_OmT3_1a.Counts.txt\n",
      "67 GSM2786630_Sample_OmT3_1b.Counts.txt\n",
      "69 GSM2786631_Sample_OmT3_1c.Counts.txt\n",
      "71 GSM2786632_Sample_OmT3_2a.Counts.txt\n",
      "73 GSM2786633_Sample_OmT3_2b.Counts.txt\n"
     ]
    }
   ],
   "source": [
    "for i, j in zip(new_df.columns[:35], files[:-1]):\n",
    "    print(i, j)\n",
    "    new_names[i] = j"
   ]
  },
  {
   "cell_type": "code",
   "execution_count": 136,
   "metadata": {},
   "outputs": [],
   "source": [
    "new_names[74] = 'ENSG'"
   ]
  },
  {
   "cell_type": "code",
   "execution_count": 138,
   "metadata": {
    "collapsed": true
   },
   "outputs": [],
   "source": [
    "new_names[75] = files[-1]"
   ]
  },
  {
   "cell_type": "code",
   "execution_count": 145,
   "metadata": {},
   "outputs": [],
   "source": [
    "new_df = new_df.rename(index=str, columns=new_names)"
   ]
  },
  {
   "cell_type": "code",
   "execution_count": 149,
   "metadata": {
    "collapsed": true
   },
   "outputs": [],
   "source": [
    "new_df.to_csv('new_table.csv', header=True, index=False)"
   ]
  }
 ],
 "metadata": {
  "anaconda-cloud": {},
  "kernelspec": {
   "display_name": "Python 3",
   "language": "python",
   "name": "python3"
  },
  "language_info": {
   "codemirror_mode": {
    "name": "ipython",
    "version": 3
   },
   "file_extension": ".py",
   "mimetype": "text/x-python",
   "name": "python",
   "nbconvert_exporter": "python",
   "pygments_lexer": "ipython3",
   "version": "3.6.1"
  }
 },
 "nbformat": 4,
 "nbformat_minor": 1
}
