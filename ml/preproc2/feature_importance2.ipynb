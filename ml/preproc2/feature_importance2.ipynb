{
 "cells": [
  {
   "cell_type": "code",
   "execution_count": 2,
   "metadata": {
    "collapsed": true
   },
   "outputs": [],
   "source": [
    "import os\n",
    "import pandas as pd\n",
    "import re\n",
    "from sklearn.model_selection import train_test_split\n",
    "from sklearn.pipeline import make_pipeline\n",
    "from sklearn import svm\n",
    "from sklearn.preprocessing import StandardScaler\n",
    "from sklearn.model_selection import cross_val_score\n",
    "from sklearn.linear_model import *\n",
    "import numpy as np\n",
    "from sklearn.model_selection import GridSearchCV\n",
    "import matplotlib.pyplot as plt\n",
    "%matplotlib inline"
   ]
  },
  {
   "cell_type": "code",
   "execution_count": 111,
   "metadata": {
    "collapsed": true
   },
   "outputs": [],
   "source": [
    "df = pd.read_csv('to_ML.csv').T\n",
    "\n",
    "Gen_ID = df[35:]\n",
    "df = df.drop(df.index[35])\n",
    "df = df.drop(df.index[34])\n",
    "df  = df.drop(df.index[0])\n",
    "df = df.drop(df.index[16:20])\n",
    "target = []\n",
    "for index in df.index:\n",
    "    res_ev = re.search('Fibroblast', index)\n",
    "    res_oskm = re.search('_OSKM_', index)\n",
    "    if re.search('Fibroblast', index) != None:\n",
    "        target.append(1)\n",
    "    if re.search('iPSC', index) != None:\n",
    "        target.append(0)"
   ]
  },
  {
   "cell_type": "code",
   "execution_count": 112,
   "metadata": {},
   "outputs": [
    {
     "data": {
      "text/plain": [
       "1.0"
      ]
     },
     "execution_count": 112,
     "metadata": {},
     "output_type": "execute_result"
    }
   ],
   "source": [
    "logit_pipe = make_pipeline(StandardScaler(), LogisticRegression(penalty='l1', C=0.7))\n",
    "logit_pipe.fit(df, target)\n",
    "cross_val_score(logit_pipe, df, target, cv=6, scoring='f1').mean()"
   ]
  },
  {
   "cell_type": "code",
   "execution_count": 137,
   "metadata": {},
   "outputs": [
    {
     "data": {
      "text/plain": [
       "1.0"
      ]
     },
     "execution_count": 137,
     "metadata": {},
     "output_type": "execute_result"
    }
   ],
   "source": [
    "logit_best = make_pipeline(StandardScaler(), LogisticRegression(penalty='l1', C=10.084, max_iter=500))\n",
    "logit_best.fit(df, target)\n",
    "cross_val_score(logit_best, df, target, cv=6, scoring='f1').mean()"
   ]
  },
  {
   "cell_type": "code",
   "execution_count": 138,
   "metadata": {},
   "outputs": [
    {
     "data": {
      "text/plain": [
       "[<matplotlib.lines.Line2D at 0x17bab8f68d0>]"
      ]
     },
     "execution_count": 138,
     "metadata": {},
     "output_type": "execute_result"
    },
    {
     "data": {
      "image/png": "[encoded data removed]",
      "text/plain": [
       "<matplotlib.figure.Figure at 0x17bab4adf60>"
      ]
     },
     "metadata": {},
     "output_type": "display_data"
    }
   ],
   "source": [
    "plt.plot(logit_best.steps[1][1].coef_[0])"
   ]
  },
  {
   "cell_type": "code",
   "execution_count": 139,
   "metadata": {},
   "outputs": [],
   "source": [
    "mTor = list(pd.read_csv('mTOR2.txt').columns)\n",
    "mTor = [re.sub(' ', '', x) for x in mTor]"
   ]
  },
  {
   "cell_type": "code",
   "execution_count": 140,
   "metadata": {},
   "outputs": [
    {
     "data": {
      "text/plain": [
       "['AKT1',\n",
       " 'AKT1S1',\n",
       " 'ATG13',\n",
       " 'BNIP3',\n",
       " 'BRAF',\n",
       " 'CCNE1',\n",
       " 'CDK2',\n",
       " 'CLIP1',\n",
       " 'CYCS',\n",
       " 'DDIT4',\n",
       " 'DEPTOR',\n",
       " 'EEF2',\n",
       " 'EEF2K',\n",
       " 'EIF4A1',\n",
       " 'EIF4B',\n",
       " 'EIF4E',\n",
       " 'EIF4EBP1',\n",
       " 'FBXW11',\n",
       " 'HRAS',\n",
       " 'IKBKB',\n",
       " 'IRS1',\n",
       " 'KRAS',\n",
       " 'MAP2K1',\n",
       " 'MAP2K2',\n",
       " 'MAPK1',\n",
       " 'MAPK3',\n",
       " 'MAPKAP1',\n",
       " 'MLST8',\n",
       " 'MTOR',\n",
       " 'NRAS',\n",
       " 'PDCD4',\n",
       " 'PDPK1',\n",
       " 'PLD1',\n",
       " 'PLD2',\n",
       " 'PML',\n",
       " 'POLDIP3',\n",
       " 'PPARGC1A',\n",
       " 'PRKCA',\n",
       " 'PRR5',\n",
       " 'PXN',\n",
       " 'RAC1',\n",
       " 'RAF1',\n",
       " 'RB1CC1',\n",
       " 'RHEB',\n",
       " 'RHOA',\n",
       " 'RICTOR',\n",
       " 'RPS6KA1',\n",
       " 'RPS6KB1',\n",
       " 'RPTOR',\n",
       " 'RRAGA',\n",
       " 'RRAGB',\n",
       " 'RRAGC',\n",
       " 'RRAGD',\n",
       " 'RRN3',\n",
       " 'SFN',\n",
       " 'SGK1',\n",
       " 'SREBF1',\n",
       " 'SSPO',\n",
       " 'TSC1',\n",
       " 'TSC2',\n",
       " 'ULK1',\n",
       " 'ULK2',\n",
       " 'YWHAB',\n",
       " 'YWHAE',\n",
       " 'YWHAG',\n",
       " 'YWHAH',\n",
       " 'YWHAQ',\n",
       " 'YWHAZ',\n",
       " 'YY1']"
      ]
     },
     "execution_count": 140,
     "metadata": {},
     "output_type": "execute_result"
    }
   ],
   "source": [
    "mTor"
   ]
  },
  {
   "cell_type": "code",
   "execution_count": 141,
   "metadata": {
    "collapsed": true
   },
   "outputs": [],
   "source": [
    "def best_genes(logit_coefs):\n",
    "    best_logit_features = [x for x in logit_coefs if abs(x) != 0]\n",
    "    best_logit_features_numbers = [list(logit_coefs).index(x) for x in best_logit_features]\n",
    "    best_genes = [Gen_ID[x][0] for x in best_logit_features_numbers]\n",
    "    return best_logit_features, best_logit_features_numbers, best_genes\n",
    "\n",
    "def compare_with_mtor(best_genes, mtor_genes):\n",
    "    return set(best_genes) & set(mtor_genes)"
   ]
  },
  {
   "cell_type": "code",
   "execution_count": 142,
   "metadata": {
    "collapsed": true
   },
   "outputs": [],
   "source": [
    "b_l, b_log_feachures, b_genes = best_genes(logit_best.steps[1][1].coef_[0])"
   ]
  },
  {
   "cell_type": "code",
   "execution_count": 143,
   "metadata": {},
   "outputs": [
    {
     "data": {
      "text/plain": [
       "['PDPN',\n",
       " 'DDI2,RSC1A1',\n",
       " 'NBL1,MINOS1-NBL1',\n",
       " 'PATJ',\n",
       " 'L1TD1',\n",
       " 'SH3GLB1',\n",
       " 'LRIG2',\n",
       " 'PDIA3,PDIA3P1',\n",
       " 'ZNF687',\n",
       " 'LMNA',\n",
       " 'POU2F1',\n",
       " 'PRRX1',\n",
       " 'RNU6-1319P,RNU6-747P,RNU6-791P,RNU6-1076P,U6,RNU6-241P,RNU6-1199P,RNU6-177P,RNU6-355P,RNU6-860P,RNU6-447P,RNU6-1054P,RNU6-1118P,RNU6-705P,RNU6-1100P,RNU6-1217P,RNU6-785P',\n",
       " 'MARCKSL1',\n",
       " 'TRIM33',\n",
       " 'ADAR',\n",
       " 'KIAA0040',\n",
       " 'KDM5B',\n",
       " 'COMMD3,COMMD3-BMI1',\n",
       " 'ARID5B',\n",
       " 'TSPAN15',\n",
       " 'CHST3',\n",
       " 'FAS',\n",
       " 'TCF7L2',\n",
       " 'GRK5',\n",
       " 'BAG3',\n",
       " 'PARD3',\n",
       " 'JMJD1C',\n",
       " 'ACTA2',\n",
       " 'SORBS1',\n",
       " 'MMS19',\n",
       " 'ILK',\n",
       " 'KIAA1549L',\n",
       " 'CD44',\n",
       " 'PRDM11',\n",
       " 'CREB3L1',\n",
       " 'CCDC85B',\n",
       " 'DRAP1',\n",
       " 'TMEM133',\n",
       " 'ARHGEF12',\n",
       " 'SORL1',\n",
       " 'UBASH3B',\n",
       " 'DKK3',\n",
       " 'LPXN',\n",
       " 'PLA2G16',\n",
       " 'CHKA',\n",
       " 'MMP1',\n",
       " 'MMP3',\n",
       " 'KDELC2',\n",
       " 'ZNF202',\n",
       " 'NANOGP1,NANOGP8,NANOG,AC007536.1,NANOGP4,NANOGP7',\n",
       " 'PHC1,PHC1P1',\n",
       " 'PTMA,PTMAP4,AC007537.4,AC007537.1',\n",
       " 'EMP1',\n",
       " 'RBMS2',\n",
       " 'GLIPR1',\n",
       " 'SYT1',\n",
       " 'ACSS3',\n",
       " 'TMEM263',\n",
       " 'SCNN1A',\n",
       " 'IFFO1',\n",
       " 'SLC2A14',\n",
       " 'SLC2A3',\n",
       " 'DDX11,DDX12P,AC009533.1',\n",
       " 'KRT8',\n",
       " 'KITLG',\n",
       " 'LUM',\n",
       " 'APPL2',\n",
       " 'CKAP4',\n",
       " 'CORO1C',\n",
       " 'ATP8A2',\n",
       " 'NBEA',\n",
       " 'FREM2',\n",
       " 'FAM124A',\n",
       " 'SLAIN1',\n",
       " 'AL160153.1,ITGBL1',\n",
       " 'SMAD9',\n",
       " 'BDKRB1,AL355102.2',\n",
       " 'CRIP2',\n",
       " 'CCNB1IP1',\n",
       " 'AP1G2',\n",
       " 'LTBP2',\n",
       " 'STON2',\n",
       " 'PWAR6',\n",
       " 'SNORD116-2',\n",
       " 'SNORD116-22,SNORD116-16,SNORD116-17,AC124312.3,SNHG14,SNORD116-18,SNORD116-20,SNORD116-14,SNORD116-19,SNORD116-15,SNORD116-21',\n",
       " 'SNORD116-24',\n",
       " 'SNORD116-27',\n",
       " 'SNORD116-29',\n",
       " 'CRTC3',\n",
       " 'MEIS2',\n",
       " 'SLC9A3R2',\n",
       " 'POLR3E',\n",
       " 'AC120114.5,PAGR1,AC009133.6',\n",
       " 'TGFB1I1',\n",
       " 'CDH1',\n",
       " 'SNTB2,AC026464.4',\n",
       " 'LUC7L',\n",
       " 'BOLA2-SMG1P6,SMG1,SMG1P3,SMG1P1,SMG1P4,SMG1P2,SMG1P5,BOLA2,SMG1P7,SMG1P6',\n",
       " 'BCL7C',\n",
       " 'SNORD42B,RPL23A',\n",
       " 'CDK12',\n",
       " 'ITGA3',\n",
       " 'GDPD1',\n",
       " 'BPTF',\n",
       " 'EVI2A,AC134669.2',\n",
       " 'HOXB2',\n",
       " 'COL1A1',\n",
       " 'MBTD1',\n",
       " 'TRIM37',\n",
       " 'TIMP2,CEP295NL',\n",
       " 'ARHGDIA',\n",
       " 'ARHGDIA',\n",
       " 'ARHGAP28',\n",
       " 'RNF125,AC011825.3',\n",
       " 'NEDD4L',\n",
       " 'ZNF532',\n",
       " 'ESCO1',\n",
       " 'GNA11',\n",
       " 'NFIC',\n",
       " 'PLPPR2',\n",
       " 'AC139769.1,RPSAP58',\n",
       " 'LIN37,AD000671.1',\n",
       " 'EHD2',\n",
       " 'ZNF460',\n",
       " 'ZNF544',\n",
       " 'MYDGF',\n",
       " 'ZNF91',\n",
       " 'DMKN',\n",
       " 'PSG7,PSG9,PSG3,PSG5,PSG6,PSG8,PSG1,PSG11,PSG4,PSG2',\n",
       " 'PLAUR',\n",
       " 'CAD',\n",
       " 'SPAST',\n",
       " 'EPCAM',\n",
       " 'RMND5A',\n",
       " 'AC079447.1,C2orf15',\n",
       " 'IL1R1',\n",
       " 'GCC2',\n",
       " 'CCNT2',\n",
       " 'GALNT5',\n",
       " 'GCA',\n",
       " 'B3GALT1',\n",
       " 'GULP1',\n",
       " 'NABP1',\n",
       " 'ARPC2',\n",
       " 'WDR35',\n",
       " 'LRPPRC',\n",
       " 'PELI1',\n",
       " 'AC125232.2,AC125232.1,ANAPC1,AC093616.1,AC083899.1,RMND5A',\n",
       " 'ORC4',\n",
       " 'BAZ2B',\n",
       " 'MARCH4',\n",
       " 'AL109837.1',\n",
       " 'CHD6',\n",
       " 'APCDD1L',\n",
       " 'CTSZ',\n",
       " 'MIR99AHG',\n",
       " 'MIR155,MIR155HG',\n",
       " 'CYYR1',\n",
       " 'SYNJ1',\n",
       " 'CBS,CBSL',\n",
       " 'MED15',\n",
       " 'NF2',\n",
       " 'LGALS1',\n",
       " 'EP300',\n",
       " 'ARFGAP3,PACSIN2',\n",
       " 'HRH1',\n",
       " 'ZNF589',\n",
       " 'CLDN11',\n",
       " 'SOX2',\n",
       " 'EPHB3',\n",
       " 'TKT',\n",
       " 'MAGI1',\n",
       " 'TM4SF1',\n",
       " 'FGFRL1',\n",
       " 'N4BP2',\n",
       " 'SLAIN2',\n",
       " 'ADGRL3',\n",
       " 'SMARCAD1',\n",
       " 'UGT8',\n",
       " 'DCLK2',\n",
       " 'FAM160A1',\n",
       " 'KLKB1',\n",
       " 'ZNF721',\n",
       " 'PROM1,FGFBP2',\n",
       " 'NFXL1',\n",
       " 'IGFBP7',\n",
       " 'NDNF',\n",
       " 'TERF1P5,TERF1,AL137013.1,TERF1P3,TERF1P4,TERF1P2,TERF1P1',\n",
       " 'TBC1D9',\n",
       " 'LRBA',\n",
       " 'ANXA2P1',\n",
       " 'CTSO',\n",
       " 'NPR3',\n",
       " 'OSMR',\n",
       " 'GPBP1',\n",
       " 'CWC27',\n",
       " 'POLR3G',\n",
       " 'HSD17B4',\n",
       " 'ADAMTS19',\n",
       " 'TGFBI',\n",
       " 'SNORA74A',\n",
       " 'ARHGAP26',\n",
       " 'ABLIM3',\n",
       " 'SYNPO',\n",
       " 'SGCD',\n",
       " 'DAB2,C9',\n",
       " 'SIL1',\n",
       " 'LARS',\n",
       " 'C1QTNF2',\n",
       " 'RNF44',\n",
       " 'SOX4',\n",
       " 'FAM135A',\n",
       " 'CD109',\n",
       " 'PDE7B',\n",
       " 'ACKR4,CCRL1P1',\n",
       " 'SERPINB6',\n",
       " 'PPP1R18',\n",
       " 'POU5F1,POU5F1P3,POU5F1B,POU5F1P4',\n",
       " 'COL12A1',\n",
       " 'ARHGAP18',\n",
       " 'SHPRH',\n",
       " 'FKBP9',\n",
       " 'ZNF107',\n",
       " 'NSUN5,NSUN5P2,NSUN5P1,TRIM73',\n",
       " 'CAV2',\n",
       " 'PTPRZ1',\n",
       " 'CALU',\n",
       " 'CHPF2,MIR671',\n",
       " 'CPVL',\n",
       " 'SLC25A13',\n",
       " 'AASS',\n",
       " 'FAM180A',\n",
       " 'AC004918.2,KIAA1147,AC004918.1',\n",
       " 'PPP3CC',\n",
       " 'RBPMS',\n",
       " 'TACC1',\n",
       " 'IDO1',\n",
       " 'SULF1',\n",
       " 'TERF1',\n",
       " 'E2F5',\n",
       " 'MAL2',\n",
       " 'POU5F1B',\n",
       " 'LONRF1',\n",
       " 'LOXL2,ENTPD4',\n",
       " 'PBK',\n",
       " 'RAB11FIP1',\n",
       " 'SNAI2',\n",
       " 'ADAMTSL1',\n",
       " 'DAPK1',\n",
       " 'ZNF483',\n",
       " 'ZBTB34',\n",
       " 'ODF2',\n",
       " 'PRRX2',\n",
       " 'NCS1',\n",
       " 'FAM214B',\n",
       " 'NR6A1',\n",
       " 'FAM129B',\n",
       " 'PTRH1',\n",
       " 'ENG',\n",
       " 'GYG2',\n",
       " 'TXLNG',\n",
       " 'EIF2S3',\n",
       " 'TIMP1',\n",
       " 'PLP1',\n",
       " 'CTPS2',\n",
       " 'PCYT1B',\n",
       " 'SRPX',\n",
       " 'PIM2',\n",
       " 'NUP62CL',\n",
       " 'RTL8B',\n",
       " 'TXLNGY',\n",
       " 'RNF5,RNF5P1',\n",
       " 'GABBR1',\n",
       " 'POU5F1,POU5F1P3,POU5F1B,POU5F1P4',\n",
       " 'POU5F1,POU5F1P3,POU5F1B,POU5F1P4']"
      ]
     },
     "execution_count": 143,
     "metadata": {},
     "output_type": "execute_result"
    }
   ],
   "source": [
    "b_genes"
   ]
  },
  {
   "cell_type": "code",
   "execution_count": 145,
   "metadata": {},
   "outputs": [
    {
     "data": {
      "text/plain": [
       "set()"
      ]
     },
     "execution_count": 145,
     "metadata": {},
     "output_type": "execute_result"
    }
   ],
   "source": [
    "compare_with_mtor(b_genes, mTor)"
   ]
  }
 ],
 "metadata": {
  "kernelspec": {
   "display_name": "Python 3",
   "language": "python",
   "name": "python3"
  },
  "language_info": {
   "codemirror_mode": {
    "name": "ipython",
    "version": 3
   },
   "file_extension": ".py",
   "mimetype": "text/x-python",
   "name": "python",
   "nbconvert_exporter": "python",
   "pygments_lexer": "ipython3",
   "version": "3.6.1"
  }
 },
 "nbformat": 4,
 "nbformat_minor": 2
}
