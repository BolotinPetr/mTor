{
 "cells": [
  {
   "cell_type": "code",
   "execution_count": 157,
   "metadata": {
    "collapsed": true
   },
   "outputs": [],
   "source": [
    "import os\n",
    "import pandas as pd\n",
    "import re\n",
    "from sklearn.model_selection import train_test_split\n",
    "from sklearn import svm\n",
    "\n",
    "%matplotlib inline"
   ]
  },
  {
   "cell_type": "code",
   "execution_count": 52,
   "metadata": {},
   "outputs": [
    {
     "name": "stdout",
     "output_type": "stream",
     "text": [
      "./GSM2494604_Sample_EV_10.Counts.txt.gz\n",
      "./GSM2494605_Sample_EV_11.Counts.txt.gz\n",
      "./GSM2494606_Sample_EV_12.Counts.txt.gz\n",
      "./GSM2494607_Sample_EV_13.Counts.txt.gz\n",
      "./GSM2494608_Sample_EV_14.Counts.txt.gz\n",
      "./GSM2494609_Sample_EV_15.Counts.txt.gz\n",
      "./GSM2494610_Sample_EV_16.Counts.txt.gz\n",
      "./GSM2494611_Sample_EV_17.Counts.txt.gz\n",
      "./GSM2494612_Sample_EV_18.Counts.txt.gz\n",
      "./GSM2494613_Sample_EV_19.Counts.txt.gz\n",
      "./GSM2494614_Sample_EV_1.Counts.txt.gz\n",
      "./GSM2494615_Sample_EV_20.Counts.txt.gz\n",
      "./GSM2494617_Sample_EV_21.Counts.txt.gz\n",
      "./GSM2494618_Sample_EV_22.Counts.txt.gz\n",
      "./GSM2494620_Sample_EV_23.Counts.txt.gz\n",
      "./GSM2494622_Sample_EV_24.Counts.txt.gz\n",
      "./GSM2494624_Sample_EV_25.Counts.txt.gz\n",
      "./GSM2494626_Sample_EV_26.Counts.txt.gz\n",
      "./GSM2494628_Sample_EV_27.Counts.txt.gz\n",
      "./GSM2494630_Sample_EV_28.Counts.txt.gz\n",
      "./GSM2494632_Sample_EV_29.Counts.txt.gz\n",
      "./GSM2494633_Sample_EV_2.Counts.txt.gz\n",
      "./GSM2494634_Sample_EV_30.Counts.txt.gz\n",
      "./GSM2494635_Sample_EV_31.Counts.txt.gz\n",
      "./GSM2494636_Sample_EV_32.Counts.txt.gz\n",
      "./GSM2494637_Sample_EV_3.Counts.txt.gz\n",
      "./GSM2494638_Sample_EV_4.Counts.txt.gz\n",
      "./GSM2494639_Sample_EV_5.Counts.txt.gz\n",
      "./GSM2494640_Sample_EV_6.Counts.txt.gz\n",
      "./GSM2494641_Sample_EV_7.Counts.txt.gz\n",
      "./GSM2494642_Sample_EV_8.Counts.txt.gz\n",
      "./GSM2494643_Sample_EV_9.Counts.txt.gz\n",
      "./GSM2494644_Sample_OSKM_10.Counts.txt.gz\n",
      "./GSM2494645_Sample_OSKM_11.Counts.txt.gz\n",
      "./GSM2494646_Sample_OSKM_12.Counts.txt.gz\n",
      "./GSM2494647_Sample_OSKM_13.Counts.txt.gz\n",
      "./GSM2494648_Sample_OSKM_14.Counts.txt.gz\n",
      "./GSM2494649_Sample_OSKM_15.Counts.txt.gz\n",
      "./GSM2494650_Sample_OSKM_16.Counts.txt.gz\n",
      "./GSM2494651_Sample_OSKM_17.Counts.txt.gz\n",
      "./GSM2494652_Sample_OSKM_18.Counts.txt.gz\n",
      "./GSM2494653_Sample_OSKM_19.Counts.txt.gz\n",
      "./GSM2494654_Sample_OSKM_1.Counts.txt.gz\n",
      "./GSM2494655_Sample_OSKM_20.Counts.txt.gz\n",
      "./GSM2494656_Sample_OSKM_21.Counts.txt.gz\n",
      "./GSM2494657_Sample_OSKM_22.Counts.txt.gz\n",
      "./GSM2494658_Sample_OSKM_23.Counts.txt.gz\n",
      "./GSM2494659_Sample_OSKM_24.Counts.txt.gz\n",
      "./GSM2494660_Sample_OSKM_25.Counts.txt.gz\n",
      "./GSM2494661_Sample_OSKM_26.Counts.txt.gz\n",
      "./GSM2494662_Sample_OSKM_27.Counts.txt.gz\n",
      "./GSM2494663_Sample_OSKM_28.Counts.txt.gz\n",
      "./GSM2494664_Sample_OSKM_29.Counts.txt.gz\n",
      "./GSM2494665_Sample_OSKM_2.Counts.txt.gz\n",
      "./GSM2494666_Sample_OSKM_30.Counts.txt.gz\n",
      "./GSM2494667_Sample_OSKM_31.Counts.txt.gz\n",
      "./GSM2494668_Sample_OSKM_32.Counts.txt.gz\n",
      "./GSM2494669_Sample_OSKM_33.Counts.txt.gz\n",
      "./GSM2494670_Sample_OSKM_34.Counts.txt.gz\n",
      "./GSM2494671_Sample_OSKM_35.Counts.txt.gz\n",
      "./GSM2494672_Sample_OSKM_36.Counts.txt.gz\n",
      "./GSM2494673_Sample_OSKM_37.Counts.txt.gz\n",
      "./GSM2494674_Sample_OSKM_38.Counts.txt.gz\n",
      "./GSM2494675_Sample_OSKM_39.Counts.txt.gz\n",
      "./GSM2494676_Sample_OSKM_3.Counts.txt.gz\n",
      "./GSM2494677_Sample_OSKM_40.Counts.txt.gz\n",
      "./GSM2494678_Sample_OSKM_41.Counts.txt.gz\n",
      "./GSM2494679_Sample_OSKM_42.Counts.txt.gz\n",
      "./GSM2494680_Sample_OSKM_43.Counts.txt.gz\n",
      "./GSM2494681_Sample_OSKM_44.Counts.txt.gz\n",
      "./GSM2494682_Sample_OSKM_45.Counts.txt.gz\n",
      "./GSM2494683_Sample_OSKM_46.Counts.txt.gz\n",
      "./GSM2494684_Sample_OSKM_47.Counts.txt.gz\n",
      "./GSM2494685_Sample_OSKM_48.Counts.txt.gz\n",
      "./GSM2494686_Sample_OSKM_49.Counts.txt.gz\n",
      "./GSM2494687_Sample_OSKM_4.Counts.txt.gz\n",
      "./GSM2494688_Sample_OSKM_50.Counts.txt.gz\n",
      "./GSM2494689_Sample_OSKM_51.Counts.txt.gz\n",
      "./GSM2494690_Sample_OSKM_52.Counts.txt.gz\n",
      "./GSM2494691_Sample_OSKM_53.Counts.txt.gz\n",
      "./GSM2494692_Sample_OSKM_54.Counts.txt.gz\n",
      "./GSM2494693_Sample_OSKM_55.Counts.txt.gz\n",
      "./GSM2494694_Sample_OSKM_56.Counts.txt.gz\n",
      "./GSM2494695_Sample_OSKM_57.Counts.txt.gz\n",
      "./GSM2494696_Sample_OSKM_58.Counts.txt.gz\n",
      "./GSM2494697_Sample_OSKM_59.Counts.txt.gz\n",
      "./GSM2494698_Sample_OSKM_5.Counts.txt.gz\n",
      "./GSM2494699_Sample_OSKM_60.Counts.txt.gz\n",
      "./GSM2494700_Sample_OSKM_61.Counts.txt.gz\n",
      "./GSM2494701_Sample_OSKM_62.Counts.txt.gz\n",
      "./GSM2494702_Sample_OSKM_63.Counts.txt.gz\n",
      "./GSM2494703_Sample_OSKM_64.Counts.txt.gz\n",
      "./GSM2494704_Sample_OSKM_6.Counts.txt.gz\n",
      "./GSM2494705_Sample_OSKM_7.Counts.txt.gz\n",
      "./GSM2494706_Sample_OSKM_8.Counts.txt.gz\n",
      "./GSM2494707_Sample_OSKM_9.Counts.txt.gz\n"
     ]
    }
   ],
   "source": [
    "yourpath = './'\n",
    "listofFiles = []\n",
    "for root, dirs, files in os.walk(yourpath, topdown=False):\n",
    "    for name in files[1:]:        \n",
    "        print(os.path.join(root, name))\n",
    "        try:\n",
    "            listofFiles.append(pd.read_csv(os.path.join(root, name)[2:], sep = '\\t', header= None)) \n",
    "        except:\n",
    "            pass"
   ]
  },
  {
   "cell_type": "code",
   "execution_count": 54,
   "metadata": {
    "collapsed": true
   },
   "outputs": [],
   "source": [
    "files = files[1:]"
   ]
  },
  {
   "cell_type": "code",
   "execution_count": 57,
   "metadata": {},
   "outputs": [
    {
     "data": {
      "text/plain": [
       "96"
      ]
     },
     "execution_count": 57,
     "metadata": {},
     "output_type": "execute_result"
    }
   ],
   "source": [
    "len(listofFiles)"
   ]
  },
  {
   "cell_type": "code",
   "execution_count": 59,
   "metadata": {
    "collapsed": true
   },
   "outputs": [],
   "source": [
    "l = [listofFiles[i] for i in range(len(files))]"
   ]
  },
  {
   "cell_type": "code",
   "execution_count": 60,
   "metadata": {
    "collapsed": true
   },
   "outputs": [],
   "source": [
    "dt = pd.concat(l, axis=1, ignore_index=True)"
   ]
  },
  {
   "cell_type": "code",
   "execution_count": 61,
   "metadata": {
    "collapsed": true
   },
   "outputs": [],
   "source": [
    "def duplicate_columns(df, return_dataframe = False, verbose = False):\n",
    "    '''\n",
    "        a function to detect and possibly remove duplicated columns for a pandas dataframe\n",
    "    '''\n",
    "    from pandas.core.common import array_equivalent\n",
    "    # group columns by dtypes, only the columns of the same dtypes can be duplicate of each other\n",
    "    groups = df.columns.to_series().groupby(df.dtypes).groups\n",
    "    duplicated_columns = []\n",
    " \n",
    "    for dtype, col_names in groups.items():\n",
    "        column_values = df[col_names]\n",
    "        num_columns = len(col_names)\n",
    " \n",
    "        # find duplicated columns by checking pairs of columns, store first column name if duplicate exist \n",
    "        for i in range(num_columns):\n",
    "            column_i = column_values.iloc[:,i].values\n",
    "            for j in range(i + 1, num_columns):\n",
    "                column_j = column_values.iloc[:,j].values\n",
    "                if array_equivalent(column_i, column_j):\n",
    "                    if verbose: \n",
    "                        print(\"column {} is a duplicate of column {}\".format(col_names[i], col_names[j]))\n",
    "                    duplicated_columns.append(col_names[i])\n",
    "                    break\n",
    "    if not return_dataframe:\n",
    "        # return the column names of those duplicated exists\n",
    "        return duplicated_columns\n",
    "    else:\n",
    "        # return a dataframe with duplicated columns dropped \n",
    "        return df.drop(labels = duplicated_columns, axis = 1)"
   ]
  },
  {
   "cell_type": "code",
   "execution_count": 62,
   "metadata": {},
   "outputs": [
    {
     "name": "stderr",
     "output_type": "stream",
     "text": [
      "C:\\Users\\Petr\\Anaconda3\\lib\\site-packages\\ipykernel_launcher.py:19: DeprecationWarning: 'pandas.core.common.array_equivalent' is deprecated and is no longer public API\n"
     ]
    }
   ],
   "source": [
    "new_df = duplicate_columns(dt, True)"
   ]
  },
  {
   "cell_type": "code",
   "execution_count": 63,
   "metadata": {},
   "outputs": [
    {
     "data": {
      "text/html": [
       "<div>\n",
       "<style>\n",
       "    .dataframe thead tr:only-child th {\n",
       "        text-align: right;\n",
       "    }\n",
       "\n",
       "    .dataframe thead th {\n",
       "        text-align: left;\n",
       "    }\n",
       "\n",
       "    .dataframe tbody tr th {\n",
       "        vertical-align: top;\n",
       "    }\n",
       "</style>\n",
       "<table border=\"1\" class=\"dataframe\">\n",
       "  <thead>\n",
       "    <tr style=\"text-align: right;\">\n",
       "      <th></th>\n",
       "      <th>1</th>\n",
       "      <th>3</th>\n",
       "      <th>5</th>\n",
       "      <th>7</th>\n",
       "      <th>9</th>\n",
       "      <th>11</th>\n",
       "      <th>13</th>\n",
       "      <th>15</th>\n",
       "      <th>17</th>\n",
       "      <th>19</th>\n",
       "      <th>...</th>\n",
       "      <th>175</th>\n",
       "      <th>177</th>\n",
       "      <th>179</th>\n",
       "      <th>181</th>\n",
       "      <th>183</th>\n",
       "      <th>185</th>\n",
       "      <th>187</th>\n",
       "      <th>189</th>\n",
       "      <th>190</th>\n",
       "      <th>191</th>\n",
       "    </tr>\n",
       "  </thead>\n",
       "  <tbody>\n",
       "    <tr>\n",
       "      <th>0</th>\n",
       "      <td>0</td>\n",
       "      <td>0</td>\n",
       "      <td>0</td>\n",
       "      <td>0</td>\n",
       "      <td>0</td>\n",
       "      <td>0</td>\n",
       "      <td>0</td>\n",
       "      <td>0</td>\n",
       "      <td>0</td>\n",
       "      <td>0</td>\n",
       "      <td>...</td>\n",
       "      <td>0</td>\n",
       "      <td>0</td>\n",
       "      <td>0</td>\n",
       "      <td>0</td>\n",
       "      <td>0</td>\n",
       "      <td>0</td>\n",
       "      <td>0</td>\n",
       "      <td>0</td>\n",
       "      <td>ENSG00000223972</td>\n",
       "      <td>0</td>\n",
       "    </tr>\n",
       "    <tr>\n",
       "      <th>1</th>\n",
       "      <td>0</td>\n",
       "      <td>0</td>\n",
       "      <td>0</td>\n",
       "      <td>0</td>\n",
       "      <td>0</td>\n",
       "      <td>1</td>\n",
       "      <td>0</td>\n",
       "      <td>0</td>\n",
       "      <td>0</td>\n",
       "      <td>1</td>\n",
       "      <td>...</td>\n",
       "      <td>0</td>\n",
       "      <td>3</td>\n",
       "      <td>1</td>\n",
       "      <td>0</td>\n",
       "      <td>0</td>\n",
       "      <td>0</td>\n",
       "      <td>2</td>\n",
       "      <td>0</td>\n",
       "      <td>ENSG00000227232</td>\n",
       "      <td>0</td>\n",
       "    </tr>\n",
       "    <tr>\n",
       "      <th>2</th>\n",
       "      <td>0</td>\n",
       "      <td>0</td>\n",
       "      <td>0</td>\n",
       "      <td>0</td>\n",
       "      <td>0</td>\n",
       "      <td>0</td>\n",
       "      <td>0</td>\n",
       "      <td>0</td>\n",
       "      <td>0</td>\n",
       "      <td>0</td>\n",
       "      <td>...</td>\n",
       "      <td>0</td>\n",
       "      <td>0</td>\n",
       "      <td>0</td>\n",
       "      <td>0</td>\n",
       "      <td>0</td>\n",
       "      <td>0</td>\n",
       "      <td>0</td>\n",
       "      <td>0</td>\n",
       "      <td>ENSG00000243485</td>\n",
       "      <td>0</td>\n",
       "    </tr>\n",
       "    <tr>\n",
       "      <th>3</th>\n",
       "      <td>0</td>\n",
       "      <td>0</td>\n",
       "      <td>0</td>\n",
       "      <td>0</td>\n",
       "      <td>0</td>\n",
       "      <td>0</td>\n",
       "      <td>0</td>\n",
       "      <td>0</td>\n",
       "      <td>0</td>\n",
       "      <td>0</td>\n",
       "      <td>...</td>\n",
       "      <td>0</td>\n",
       "      <td>0</td>\n",
       "      <td>0</td>\n",
       "      <td>0</td>\n",
       "      <td>0</td>\n",
       "      <td>0</td>\n",
       "      <td>0</td>\n",
       "      <td>0</td>\n",
       "      <td>ENSG00000221311</td>\n",
       "      <td>0</td>\n",
       "    </tr>\n",
       "    <tr>\n",
       "      <th>4</th>\n",
       "      <td>0</td>\n",
       "      <td>0</td>\n",
       "      <td>0</td>\n",
       "      <td>0</td>\n",
       "      <td>0</td>\n",
       "      <td>0</td>\n",
       "      <td>0</td>\n",
       "      <td>0</td>\n",
       "      <td>0</td>\n",
       "      <td>0</td>\n",
       "      <td>...</td>\n",
       "      <td>0</td>\n",
       "      <td>0</td>\n",
       "      <td>0</td>\n",
       "      <td>0</td>\n",
       "      <td>0</td>\n",
       "      <td>0</td>\n",
       "      <td>0</td>\n",
       "      <td>0</td>\n",
       "      <td>ENSG00000237613</td>\n",
       "      <td>0</td>\n",
       "    </tr>\n",
       "    <tr>\n",
       "      <th>5</th>\n",
       "      <td>0</td>\n",
       "      <td>0</td>\n",
       "      <td>0</td>\n",
       "      <td>0</td>\n",
       "      <td>0</td>\n",
       "      <td>0</td>\n",
       "      <td>0</td>\n",
       "      <td>0</td>\n",
       "      <td>0</td>\n",
       "      <td>0</td>\n",
       "      <td>...</td>\n",
       "      <td>0</td>\n",
       "      <td>0</td>\n",
       "      <td>0</td>\n",
       "      <td>0</td>\n",
       "      <td>0</td>\n",
       "      <td>0</td>\n",
       "      <td>0</td>\n",
       "      <td>0</td>\n",
       "      <td>ENSG00000268020</td>\n",
       "      <td>0</td>\n",
       "    </tr>\n",
       "    <tr>\n",
       "      <th>6</th>\n",
       "      <td>0</td>\n",
       "      <td>0</td>\n",
       "      <td>0</td>\n",
       "      <td>0</td>\n",
       "      <td>0</td>\n",
       "      <td>0</td>\n",
       "      <td>0</td>\n",
       "      <td>0</td>\n",
       "      <td>0</td>\n",
       "      <td>0</td>\n",
       "      <td>...</td>\n",
       "      <td>0</td>\n",
       "      <td>0</td>\n",
       "      <td>0</td>\n",
       "      <td>0</td>\n",
       "      <td>0</td>\n",
       "      <td>0</td>\n",
       "      <td>0</td>\n",
       "      <td>0</td>\n",
       "      <td>ENSG00000240361</td>\n",
       "      <td>0</td>\n",
       "    </tr>\n",
       "    <tr>\n",
       "      <th>7</th>\n",
       "      <td>0</td>\n",
       "      <td>0</td>\n",
       "      <td>0</td>\n",
       "      <td>0</td>\n",
       "      <td>0</td>\n",
       "      <td>0</td>\n",
       "      <td>0</td>\n",
       "      <td>0</td>\n",
       "      <td>0</td>\n",
       "      <td>0</td>\n",
       "      <td>...</td>\n",
       "      <td>0</td>\n",
       "      <td>0</td>\n",
       "      <td>0</td>\n",
       "      <td>0</td>\n",
       "      <td>0</td>\n",
       "      <td>0</td>\n",
       "      <td>0</td>\n",
       "      <td>0</td>\n",
       "      <td>ENSG00000186092</td>\n",
       "      <td>0</td>\n",
       "    </tr>\n",
       "    <tr>\n",
       "      <th>8</th>\n",
       "      <td>0</td>\n",
       "      <td>0</td>\n",
       "      <td>0</td>\n",
       "      <td>0</td>\n",
       "      <td>0</td>\n",
       "      <td>0</td>\n",
       "      <td>0</td>\n",
       "      <td>0</td>\n",
       "      <td>0</td>\n",
       "      <td>0</td>\n",
       "      <td>...</td>\n",
       "      <td>0</td>\n",
       "      <td>0</td>\n",
       "      <td>0</td>\n",
       "      <td>0</td>\n",
       "      <td>0</td>\n",
       "      <td>0</td>\n",
       "      <td>0</td>\n",
       "      <td>0</td>\n",
       "      <td>ENSG00000238009</td>\n",
       "      <td>0</td>\n",
       "    </tr>\n",
       "    <tr>\n",
       "      <th>9</th>\n",
       "      <td>0</td>\n",
       "      <td>0</td>\n",
       "      <td>0</td>\n",
       "      <td>0</td>\n",
       "      <td>0</td>\n",
       "      <td>0</td>\n",
       "      <td>0</td>\n",
       "      <td>0</td>\n",
       "      <td>0</td>\n",
       "      <td>0</td>\n",
       "      <td>...</td>\n",
       "      <td>0</td>\n",
       "      <td>0</td>\n",
       "      <td>0</td>\n",
       "      <td>0</td>\n",
       "      <td>0</td>\n",
       "      <td>0</td>\n",
       "      <td>0</td>\n",
       "      <td>0</td>\n",
       "      <td>ENSG00000239945</td>\n",
       "      <td>0</td>\n",
       "    </tr>\n",
       "  </tbody>\n",
       "</table>\n",
       "<p>10 rows × 97 columns</p>\n",
       "</div>"
      ],
      "text/plain": [
       "   1    3    5    7    9    11   13   15   17   19  ...   175  177  179  181  \\\n",
       "0    0    0    0    0    0    0    0    0    0    0 ...     0    0    0    0   \n",
       "1    0    0    0    0    0    1    0    0    0    1 ...     0    3    1    0   \n",
       "2    0    0    0    0    0    0    0    0    0    0 ...     0    0    0    0   \n",
       "3    0    0    0    0    0    0    0    0    0    0 ...     0    0    0    0   \n",
       "4    0    0    0    0    0    0    0    0    0    0 ...     0    0    0    0   \n",
       "5    0    0    0    0    0    0    0    0    0    0 ...     0    0    0    0   \n",
       "6    0    0    0    0    0    0    0    0    0    0 ...     0    0    0    0   \n",
       "7    0    0    0    0    0    0    0    0    0    0 ...     0    0    0    0   \n",
       "8    0    0    0    0    0    0    0    0    0    0 ...     0    0    0    0   \n",
       "9    0    0    0    0    0    0    0    0    0    0 ...     0    0    0    0   \n",
       "\n",
       "   183  185  187  189              190  191  \n",
       "0    0    0    0    0  ENSG00000223972    0  \n",
       "1    0    0    2    0  ENSG00000227232    0  \n",
       "2    0    0    0    0  ENSG00000243485    0  \n",
       "3    0    0    0    0  ENSG00000221311    0  \n",
       "4    0    0    0    0  ENSG00000237613    0  \n",
       "5    0    0    0    0  ENSG00000268020    0  \n",
       "6    0    0    0    0  ENSG00000240361    0  \n",
       "7    0    0    0    0  ENSG00000186092    0  \n",
       "8    0    0    0    0  ENSG00000238009    0  \n",
       "9    0    0    0    0  ENSG00000239945    0  \n",
       "\n",
       "[10 rows x 97 columns]"
      ]
     },
     "execution_count": 63,
     "metadata": {},
     "output_type": "execute_result"
    }
   ],
   "source": [
    "new_df[:10]"
   ]
  },
  {
   "cell_type": "code",
   "execution_count": 64,
   "metadata": {
    "collapsed": true
   },
   "outputs": [],
   "source": [
    "new_names = {}"
   ]
  },
  {
   "cell_type": "code",
   "execution_count": 65,
   "metadata": {},
   "outputs": [
    {
     "name": "stdout",
     "output_type": "stream",
     "text": [
      "1 GSM2494604_Sample_EV_10.Counts.txt.gz\n",
      "3 GSM2494605_Sample_EV_11.Counts.txt.gz\n",
      "5 GSM2494606_Sample_EV_12.Counts.txt.gz\n",
      "7 GSM2494607_Sample_EV_13.Counts.txt.gz\n",
      "9 GSM2494608_Sample_EV_14.Counts.txt.gz\n",
      "11 GSM2494609_Sample_EV_15.Counts.txt.gz\n",
      "13 GSM2494610_Sample_EV_16.Counts.txt.gz\n",
      "15 GSM2494611_Sample_EV_17.Counts.txt.gz\n",
      "17 GSM2494612_Sample_EV_18.Counts.txt.gz\n",
      "19 GSM2494613_Sample_EV_19.Counts.txt.gz\n",
      "21 GSM2494614_Sample_EV_1.Counts.txt.gz\n",
      "23 GSM2494615_Sample_EV_20.Counts.txt.gz\n",
      "25 GSM2494617_Sample_EV_21.Counts.txt.gz\n",
      "27 GSM2494618_Sample_EV_22.Counts.txt.gz\n",
      "29 GSM2494620_Sample_EV_23.Counts.txt.gz\n",
      "31 GSM2494622_Sample_EV_24.Counts.txt.gz\n",
      "33 GSM2494624_Sample_EV_25.Counts.txt.gz\n",
      "35 GSM2494626_Sample_EV_26.Counts.txt.gz\n",
      "37 GSM2494628_Sample_EV_27.Counts.txt.gz\n",
      "39 GSM2494630_Sample_EV_28.Counts.txt.gz\n",
      "41 GSM2494632_Sample_EV_29.Counts.txt.gz\n",
      "43 GSM2494633_Sample_EV_2.Counts.txt.gz\n",
      "45 GSM2494634_Sample_EV_30.Counts.txt.gz\n",
      "47 GSM2494635_Sample_EV_31.Counts.txt.gz\n",
      "49 GSM2494636_Sample_EV_32.Counts.txt.gz\n",
      "51 GSM2494637_Sample_EV_3.Counts.txt.gz\n",
      "53 GSM2494638_Sample_EV_4.Counts.txt.gz\n",
      "55 GSM2494639_Sample_EV_5.Counts.txt.gz\n",
      "57 GSM2494640_Sample_EV_6.Counts.txt.gz\n",
      "59 GSM2494641_Sample_EV_7.Counts.txt.gz\n",
      "61 GSM2494642_Sample_EV_8.Counts.txt.gz\n",
      "63 GSM2494643_Sample_EV_9.Counts.txt.gz\n",
      "65 GSM2494644_Sample_OSKM_10.Counts.txt.gz\n",
      "67 GSM2494645_Sample_OSKM_11.Counts.txt.gz\n",
      "69 GSM2494646_Sample_OSKM_12.Counts.txt.gz\n",
      "71 GSM2494647_Sample_OSKM_13.Counts.txt.gz\n",
      "73 GSM2494648_Sample_OSKM_14.Counts.txt.gz\n",
      "75 GSM2494649_Sample_OSKM_15.Counts.txt.gz\n",
      "77 GSM2494650_Sample_OSKM_16.Counts.txt.gz\n",
      "79 GSM2494651_Sample_OSKM_17.Counts.txt.gz\n",
      "81 GSM2494652_Sample_OSKM_18.Counts.txt.gz\n",
      "83 GSM2494653_Sample_OSKM_19.Counts.txt.gz\n",
      "85 GSM2494654_Sample_OSKM_1.Counts.txt.gz\n",
      "87 GSM2494655_Sample_OSKM_20.Counts.txt.gz\n",
      "89 GSM2494656_Sample_OSKM_21.Counts.txt.gz\n",
      "91 GSM2494657_Sample_OSKM_22.Counts.txt.gz\n",
      "93 GSM2494658_Sample_OSKM_23.Counts.txt.gz\n",
      "95 GSM2494659_Sample_OSKM_24.Counts.txt.gz\n",
      "97 GSM2494660_Sample_OSKM_25.Counts.txt.gz\n",
      "99 GSM2494661_Sample_OSKM_26.Counts.txt.gz\n",
      "101 GSM2494662_Sample_OSKM_27.Counts.txt.gz\n",
      "103 GSM2494663_Sample_OSKM_28.Counts.txt.gz\n",
      "105 GSM2494664_Sample_OSKM_29.Counts.txt.gz\n",
      "107 GSM2494665_Sample_OSKM_2.Counts.txt.gz\n",
      "109 GSM2494666_Sample_OSKM_30.Counts.txt.gz\n",
      "111 GSM2494667_Sample_OSKM_31.Counts.txt.gz\n",
      "113 GSM2494668_Sample_OSKM_32.Counts.txt.gz\n",
      "115 GSM2494669_Sample_OSKM_33.Counts.txt.gz\n",
      "117 GSM2494670_Sample_OSKM_34.Counts.txt.gz\n",
      "119 GSM2494671_Sample_OSKM_35.Counts.txt.gz\n",
      "121 GSM2494672_Sample_OSKM_36.Counts.txt.gz\n",
      "123 GSM2494673_Sample_OSKM_37.Counts.txt.gz\n",
      "125 GSM2494674_Sample_OSKM_38.Counts.txt.gz\n",
      "127 GSM2494675_Sample_OSKM_39.Counts.txt.gz\n",
      "129 GSM2494676_Sample_OSKM_3.Counts.txt.gz\n",
      "131 GSM2494677_Sample_OSKM_40.Counts.txt.gz\n",
      "133 GSM2494678_Sample_OSKM_41.Counts.txt.gz\n",
      "135 GSM2494679_Sample_OSKM_42.Counts.txt.gz\n",
      "137 GSM2494680_Sample_OSKM_43.Counts.txt.gz\n",
      "139 GSM2494681_Sample_OSKM_44.Counts.txt.gz\n",
      "141 GSM2494682_Sample_OSKM_45.Counts.txt.gz\n",
      "143 GSM2494683_Sample_OSKM_46.Counts.txt.gz\n",
      "145 GSM2494684_Sample_OSKM_47.Counts.txt.gz\n",
      "147 GSM2494685_Sample_OSKM_48.Counts.txt.gz\n",
      "149 GSM2494686_Sample_OSKM_49.Counts.txt.gz\n",
      "151 GSM2494687_Sample_OSKM_4.Counts.txt.gz\n",
      "153 GSM2494688_Sample_OSKM_50.Counts.txt.gz\n",
      "155 GSM2494689_Sample_OSKM_51.Counts.txt.gz\n",
      "157 GSM2494690_Sample_OSKM_52.Counts.txt.gz\n",
      "159 GSM2494691_Sample_OSKM_53.Counts.txt.gz\n",
      "161 GSM2494692_Sample_OSKM_54.Counts.txt.gz\n",
      "163 GSM2494693_Sample_OSKM_55.Counts.txt.gz\n",
      "165 GSM2494694_Sample_OSKM_56.Counts.txt.gz\n",
      "167 GSM2494695_Sample_OSKM_57.Counts.txt.gz\n",
      "169 GSM2494696_Sample_OSKM_58.Counts.txt.gz\n",
      "171 GSM2494697_Sample_OSKM_59.Counts.txt.gz\n",
      "173 GSM2494698_Sample_OSKM_5.Counts.txt.gz\n",
      "175 GSM2494699_Sample_OSKM_60.Counts.txt.gz\n",
      "177 GSM2494700_Sample_OSKM_61.Counts.txt.gz\n",
      "179 GSM2494701_Sample_OSKM_62.Counts.txt.gz\n",
      "181 GSM2494702_Sample_OSKM_63.Counts.txt.gz\n",
      "183 GSM2494703_Sample_OSKM_64.Counts.txt.gz\n",
      "185 GSM2494704_Sample_OSKM_6.Counts.txt.gz\n",
      "187 GSM2494705_Sample_OSKM_7.Counts.txt.gz\n",
      "189 GSM2494706_Sample_OSKM_8.Counts.txt.gz\n"
     ]
    }
   ],
   "source": [
    "for i, j in zip(new_df.columns[:-2], files[:-1]):\n",
    "    print(i, j)\n",
    "    new_names[i] = j"
   ]
  },
  {
   "cell_type": "code",
   "execution_count": 67,
   "metadata": {
    "collapsed": true
   },
   "outputs": [],
   "source": [
    "new_names[190] = 'Gen_ID'"
   ]
  },
  {
   "cell_type": "code",
   "execution_count": 68,
   "metadata": {
    "collapsed": true
   },
   "outputs": [],
   "source": [
    "new_names[191] = files[-1]"
   ]
  },
  {
   "cell_type": "code",
   "execution_count": 69,
   "metadata": {
    "collapsed": true
   },
   "outputs": [],
   "source": [
    "new_df = new_df.rename(index=str, columns=new_names)"
   ]
  },
  {
   "cell_type": "code",
   "execution_count": 72,
   "metadata": {
    "collapsed": true
   },
   "outputs": [],
   "source": [
    "new_df.to_csv('new_table2.csv', header=True, index=False)"
   ]
  },
  {
   "cell_type": "code",
   "execution_count": 76,
   "metadata": {
    "collapsed": true
   },
   "outputs": [],
   "source": [
    "df = new_df.T"
   ]
  },
  {
   "cell_type": "code",
   "execution_count": 84,
   "metadata": {
    "collapsed": true
   },
   "outputs": [],
   "source": [
    "Gen_ID = df[95:96]"
   ]
  },
  {
   "cell_type": "code",
   "execution_count": 86,
   "metadata": {
    "collapsed": true
   },
   "outputs": [],
   "source": [
    "df = df.drop(df.index[95])"
   ]
  },
  {
   "cell_type": "code",
   "execution_count": 99,
   "metadata": {
    "collapsed": true
   },
   "outputs": [],
   "source": [
    "target = []\n",
    "for index in df.index:\n",
    "    res_ev = re.search('_EV_', index)\n",
    "    res_oskm = re.search('_OSKM_', index)\n",
    "    if re.search('_EV_', index) != None:\n",
    "        target.append(1)\n",
    "    if re.search('_OSKM_', index) != None:\n",
    "        target.append(0)"
   ]
  },
  {
   "cell_type": "code",
   "execution_count": 114,
   "metadata": {
    "collapsed": true
   },
   "outputs": [],
   "source": []
  },
  {
   "cell_type": "code",
   "execution_count": 212,
   "metadata": {},
   "outputs": [
    {
     "data": {
      "text/plain": [
       "LogisticRegression(C=1.0, class_weight=None, dual=False, fit_intercept=True,\n",
       "          intercept_scaling=1, max_iter=100, multi_class='ovr', n_jobs=1,\n",
       "          penalty='l1', random_state=None, solver='liblinear', tol=0.0001,\n",
       "          verbose=0, warm_start=False)"
      ]
     },
     "execution_count": 212,
     "metadata": {},
     "output_type": "execute_result"
    }
   ],
   "source": [
    "logit = LogisticRegression(penalty='l1')\n",
    "logit.fit(df, target)"
   ]
  },
  {
   "cell_type": "code",
   "execution_count": 145,
   "metadata": {
    "collapsed": true
   },
   "outputs": [],
   "source": [
    "logit = LogisticRegression(penalty='l1')"
   ]
  },
  {
   "cell_type": "code",
   "execution_count": 120,
   "metadata": {
    "collapsed": true
   },
   "outputs": [],
   "source": [
    "import matplotlib.pyplot as plt"
   ]
  },
  {
   "cell_type": "code",
   "execution_count": 213,
   "metadata": {},
   "outputs": [
    {
     "data": {
      "text/plain": [
       "0.0"
      ]
     },
     "execution_count": 213,
     "metadata": {},
     "output_type": "execute_result"
    }
   ],
   "source": [
    "logit.coef_[0][762]"
   ]
  },
  {
   "cell_type": "code",
   "execution_count": 126,
   "metadata": {},
   "outputs": [
    {
     "data": {
      "text/plain": [
       "96"
      ]
     },
     "execution_count": 126,
     "metadata": {},
     "output_type": "execute_result"
    }
   ],
   "source": [
    "len([x for x in logit.coef_[0] if x != 0])"
   ]
  },
  {
   "cell_type": "code",
   "execution_count": 129,
   "metadata": {},
   "outputs": [
    {
     "data": {
      "text/plain": [
       "[<matplotlib.lines.Line2D at 0x14ec059f2b0>]"
      ]
     },
     "execution_count": 129,
     "metadata": {},
     "output_type": "execute_result"
    },
    {
     "data": {
      "image/png": "[encoded data removed]",
      "text/plain": [
       "<matplotlib.figure.Figure at 0x14ea29a4e80>"
      ]
     },
     "metadata": {},
     "output_type": "display_data"
    }
   ],
   "source": [
    "plt.plot(logit.coef_[0])"
   ]
  },
  {
   "cell_type": "code",
   "execution_count": 180,
   "metadata": {
    "collapsed": true
   },
   "outputs": [],
   "source": [
    "from sklearn.model_selection import cross_val_score\n",
    "clf = svm.SVC(kernel='linear', C=1)\n",
    "scores = cross_val_score(clf, df, target, cv=8, scoring='f1')"
   ]
  },
  {
   "cell_type": "code",
   "execution_count": 182,
   "metadata": {},
   "outputs": [
    {
     "data": {
      "text/plain": [
       "0.95436507936507931"
      ]
     },
     "execution_count": 182,
     "metadata": {},
     "output_type": "execute_result"
    }
   ],
   "source": [
    "scores.mean()"
   ]
  },
  {
   "cell_type": "code",
   "execution_count": 183,
   "metadata": {
    "collapsed": true
   },
   "outputs": [],
   "source": [
    "X_train, X_test, y_train, y_test = train_test_split(df, target, test_size=0.3, random_state=0)"
   ]
  },
  {
   "cell_type": "code",
   "execution_count": 184,
   "metadata": {},
   "outputs": [
    {
     "data": {
      "text/plain": [
       "LogisticRegression(C=1.0, class_weight=None, dual=False, fit_intercept=True,\n",
       "          intercept_scaling=1, max_iter=100, multi_class='ovr', n_jobs=1,\n",
       "          penalty='l1', random_state=None, solver='liblinear', tol=0.0001,\n",
       "          verbose=0, warm_start=False)"
      ]
     },
     "execution_count": 184,
     "metadata": {},
     "output_type": "execute_result"
    }
   ],
   "source": [
    "logit.fit(X_train, y_train)"
   ]
  },
  {
   "cell_type": "code",
   "execution_count": 185,
   "metadata": {},
   "outputs": [
    {
     "data": {
      "text/plain": [
       "1.0"
      ]
     },
     "execution_count": 185,
     "metadata": {},
     "output_type": "execute_result"
    }
   ],
   "source": [
    "logit.score(X_test, y_test) "
   ]
  },
  {
   "cell_type": "code",
   "execution_count": 204,
   "metadata": {},
   "outputs": [
    {
     "data": {
      "text/plain": [
       "0.0"
      ]
     },
     "execution_count": 204,
     "metadata": {},
     "output_type": "execute_result"
    }
   ],
   "source": [
    "df['0'].median()"
   ]
  },
  {
   "cell_type": "code",
   "execution_count": 205,
   "metadata": {
    "collapsed": true
   },
   "outputs": [],
   "source": [
    "good_features = [x for x in df.columns if df[x].median() > 100]"
   ]
  },
  {
   "cell_type": "code",
   "execution_count": 218,
   "metadata": {},
   "outputs": [
    {
     "data": {
      "text/plain": [
       "33"
      ]
     },
     "execution_count": 218,
     "metadata": {},
     "output_type": "execute_result"
    }
   ],
   "source": [
    "len([logit.coef_[0][int(i)] for i in good_features if logit.coef_[0][int(i)] > 0])"
   ]
  },
  {
   "cell_type": "code",
   "execution_count": 219,
   "metadata": {
    "collapsed": true
   },
   "outputs": [],
   "source": [
    "good_df = df[good_features]"
   ]
  },
  {
   "cell_type": "code",
   "execution_count": 220,
   "metadata": {},
   "outputs": [
    {
     "data": {
      "text/plain": [
       "(96, 398)"
      ]
     },
     "execution_count": 220,
     "metadata": {},
     "output_type": "execute_result"
    }
   ],
   "source": [
    "good_df.shape"
   ]
  },
  {
   "cell_type": "code",
   "execution_count": 221,
   "metadata": {
    "collapsed": true
   },
   "outputs": [],
   "source": [
    "logit = LogisticRegression(penalty='l1')"
   ]
  },
  {
   "cell_type": "code",
   "execution_count": 231,
   "metadata": {},
   "outputs": [
    {
     "name": "stderr",
     "output_type": "stream",
     "text": [
      "C:\\Users\\Petr\\Anaconda3\\lib\\site-packages\\sklearn\\metrics\\classification.py:1113: UndefinedMetricWarning: F-score is ill-defined and being set to 0.0 due to no predicted samples.\n",
      "  'precision', 'predicted', average, warn_for)\n",
      "C:\\Users\\Petr\\Anaconda3\\lib\\site-packages\\sklearn\\metrics\\classification.py:1113: UndefinedMetricWarning: F-score is ill-defined and being set to 0.0 due to no predicted samples.\n",
      "  'precision', 'predicted', average, warn_for)\n"
     ]
    },
    {
     "data": {
      "text/plain": [
       "0.87733333333333319"
      ]
     },
     "execution_count": 231,
     "metadata": {},
     "output_type": "execute_result"
    }
   ],
   "source": [
    "cross_val_score(logit, good_df, target, cv=25, scoring='f1').mean()"
   ]
  },
  {
   "cell_type": "code",
   "execution_count": 233,
   "metadata": {},
   "outputs": [
    {
     "data": {
      "text/plain": [
       "LogisticRegression(C=1.0, class_weight=None, dual=False, fit_intercept=True,\n",
       "          intercept_scaling=1, max_iter=100, multi_class='ovr', n_jobs=1,\n",
       "          penalty='l1', random_state=None, solver='liblinear', tol=0.0001,\n",
       "          verbose=0, warm_start=False)"
      ]
     },
     "execution_count": 233,
     "metadata": {},
     "output_type": "execute_result"
    }
   ],
   "source": [
    "logit.fit(good_df, target)"
   ]
  },
  {
   "cell_type": "code",
   "execution_count": 236,
   "metadata": {},
   "outputs": [
    {
     "data": {
      "text/plain": [
       "[<matplotlib.lines.Line2D at 0x14eaa5c0a90>]"
      ]
     },
     "execution_count": 236,
     "metadata": {},
     "output_type": "execute_result"
    },
    {
     "data": {
      "image/png": "[encoded data removed]",
      "text/plain": [
       "<matplotlib.figure.Figure at 0x14eb0db1eb8>"
      ]
     },
     "metadata": {},
     "output_type": "display_data"
    }
   ],
   "source": [
    "plt.plot(logit.coef_[0])"
   ]
  },
  {
   "cell_type": "code",
   "execution_count": 240,
   "metadata": {
    "collapsed": true
   },
   "outputs": [],
   "source": [
    "best_logit_features = [x for x in logit.coef_[0] if x != 0]"
   ]
  },
  {
   "cell_type": "code",
   "execution_count": 246,
   "metadata": {
    "collapsed": true
   },
   "outputs": [],
   "source": [
    "best_logit_features_numbers = [list(logit.coef_[0]).index(x) for x in best_logit_features]"
   ]
  },
  {
   "cell_type": "code",
   "execution_count": 257,
   "metadata": {},
   "outputs": [
    {
     "data": {
      "text/plain": [
       "'ENSG00000221311'"
      ]
     },
     "execution_count": 257,
     "metadata": {},
     "output_type": "execute_result"
    }
   ],
   "source": [
    "Gen_ID['3'][0]"
   ]
  },
  {
   "cell_type": "code",
   "execution_count": 267,
   "metadata": {
    "collapsed": true
   },
   "outputs": [],
   "source": [
    "best_genes = [Gen_ID[str(x)][0] for x in best_logit_features_numbers]"
   ]
  },
  {
   "cell_type": "code",
   "execution_count": 270,
   "metadata": {},
   "outputs": [
    {
     "data": {
      "text/plain": [
       "1083"
      ]
     },
     "execution_count": 270,
     "metadata": {},
     "output_type": "execute_result"
    }
   ],
   "source": [
    "text_file = open('Output.txt', 'w') \n",
    "text_file.write(str(best_genes))"
   ]
  },
  {
   "cell_type": "code",
   "execution_count": 265,
   "metadata": {},
   "outputs": [
    {
     "data": {
      "text/plain": [
       "\"['ENSG00000268903', 'ENSG00000241670', 'ENSG00000237094', 'ENSG00000235146', 'ENSG00000223659', 'ENSG00000225972', 'ENSG00000269308', 'ENSG00000223764', 'ENSG00000187608', 'ENSG00000160087', 'ENSG00000230270', 'ENSG00000248333', 'ENSG00000227775', 'ENSG00000215790', 'ENSG00000169885', 'ENSG00000162585', 'ENSG00000229393', 'ENSG00000228037', 'ENSG00000177133', 'ENSG00000256761', 'ENSG00000226286', 'ENSG00000078900', 'ENSG00000235169', 'ENSG00000116198', 'ENSG00000236948', 'ENSG00000268332', 'ENSG00000231868', 'ENSG00000204859', 'ENSG00000200975', 'ENSG00000228423', 'ENSG00000238249', 'ENSG00000131686', 'ENSG00000197241', 'ENSG00000180758', 'ENSG00000188807', 'ENSG00000233268', 'ENSG00000202415', 'ENSG00000199562', 'ENSG00000264501', 'ENSG00000175279', 'ENSG00000238199', 'ENSG00000224338', 'ENSG00000235643', 'ENSG00000116661', 'ENSG00000215910', 'ENSG00000177553', 'ENSG00000011021', 'ENSG00000236997', 'ENSG00000120937', 'ENSG00000028137', 'ENSG00000225196', 'ENSG00000048707', 'ENSG00000239149', 'ENSG00000229484', 'ENSG00000162496', 'ENSG00000226166', 'ENSG00000238771']\""
      ]
     },
     "execution_count": 265,
     "metadata": {},
     "output_type": "execute_result"
    }
   ],
   "source": [
    "str(best_genes)"
   ]
  }
 ],
 "metadata": {
  "kernelspec": {
   "display_name": "Python 3",
   "language": "python",
   "name": "python3"
  },
  "language_info": {
   "codemirror_mode": {
    "name": "ipython",
    "version": 3
   },
   "file_extension": ".py",
   "mimetype": "text/x-python",
   "name": "python",
   "nbconvert_exporter": "python",
   "pygments_lexer": "ipython3",
   "version": "3.6.1"
  }
 },
 "nbformat": 4,
 "nbformat_minor": 2
}
